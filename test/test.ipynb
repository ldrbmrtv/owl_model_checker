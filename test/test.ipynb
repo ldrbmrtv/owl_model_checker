{
 "cells": [
  {
   "cell_type": "code",
   "execution_count": null,
   "id": "c784e2ad",
   "metadata": {},
   "outputs": [],
   "source": [
    "host = 'http://127.0.0.1:8000/api/'"
   ]
  },
  {
   "cell_type": "code",
   "execution_count": 2,
   "id": "486b6ea7",
   "metadata": {},
   "outputs": [
    {
     "data": {
      "text/plain": [
       "['test']"
      ]
     },
     "execution_count": 2,
     "metadata": {},
     "output_type": "execute_result"
    }
   ],
   "source": [
    "import requests\n",
    "\n",
    "\n",
    "res = requests.get(f'{host}rule')\n",
    "\n",
    "res.json()"
   ]
  },
  {
   "cell_type": "code",
   "execution_count": 3,
   "id": "39c7aeca",
   "metadata": {},
   "outputs": [
    {
     "data": {
      "text/plain": [
       "'test'"
      ]
     },
     "execution_count": 3,
     "metadata": {},
     "output_type": "execute_result"
    }
   ],
   "source": [
    "rule_name = res.json()[0]\n",
    "\n",
    "rule_name"
   ]
  },
  {
   "cell_type": "code",
   "execution_count": 4,
   "id": "6d8058a0",
   "metadata": {},
   "outputs": [
    {
     "data": {
      "text/plain": [
       "b'@prefix : <http://test/> .\\n@prefix owl: <http://www.w3.org/2002/07/owl#> .\\n@prefix rdf: <http://www.w3.org/1999/02/22-rdf-syntax-ns#> .\\n@prefix xml: <http://www.w3.org/XML/1998/namespace> .\\n@prefix xsd: <http://www.w3.org/2001/XMLSchema#> .\\n@prefix rdfs: <http://www.w3.org/2000/01/rdf-schema#> .\\n@prefix test: <http://test#> .\\n@base <http://test/> .\\n\\n<http://test> rdf:type owl:Ontology .\\n\\n#################################################################\\n#    Object Properties\\r\\n#################################################################\\n\\r\\n###  http://test#in\\ntest:in rdf:type owl:ObjectProperty .\\n\\n\\n###  http://test#verbindet\\ntest:verbindet rdf:type owl:ObjectProperty .\\n\\n\\n###  http://test#verbundenZu\\ntest:verbundenZu rdf:type owl:ObjectProperty .\\n\\n\\n#################################################################\\n#    Data properties\\r\\n#################################################################\\n\\r\\n###  http://test#bruttoGrundfl\\xc3\\xa4che\\ntest:bruttoGrundfl\\xc3\\xa4che rdf:type owl:DatatypeProperty ,\\n                                owl:FunctionalProperty .\\n\\n\\n#################################################################\\n#    Classes\\r\\n#################################################################\\n\\r\\n###  http://test#Au\\xc3\\x9fentreppe\\ntest:Au\\xc3\\x9fentreppe rdf:type owl:Class .\\n\\n\\n###  http://test#EigenerTreppenraum\\ntest:EigenerTreppenraum rdf:type owl:Class .\\n\\n\\n###  http://test#Geb\\xc3\\xa4udeklasse1\\ntest:Geb\\xc3\\xa4udeklasse1 rdf:type owl:Class .\\n\\n\\n###  http://test#Geb\\xc3\\xa4udeklasse2\\ntest:Geb\\xc3\\xa4udeklasse2 rdf:type owl:Class .\\n\\n\\n###  http://test#Geschoss\\ntest:Geschoss rdf:type owl:Class .\\n\\n\\n###  http://test#MussInEigenemTreppenraumLiegen\\ntest:MussInEigenemTreppenraumLiegen rdf:type owl:Class ;\\n                                    owl:equivalentClass [ rdf:type owl:Restriction ;\\n                                                          owl:onProperty test:in ;\\n                                                          owl:someValuesFrom test:EigenerTreppenraum\\n                                                        ] .\\n\\n\\n###  http://test#NotwendigeTreppe\\ntest:NotwendigeTreppe rdf:type owl:Class .\\n\\n\\n###  http://test#NotwendigeTreppeInEigenemTreppenraum\\ntest:NotwendigeTreppeInEigenemTreppenraum rdf:type owl:Class ;\\n                                          owl:equivalentClass [ rdf:type owl:Class ;\\n                                                                owl:complementOf test:Au\\xc3\\x9fentreppe\\n                                                              ] ,\\n                                                              [ rdf:type owl:Class ;\\n                                                                owl:complementOf [ rdf:type owl:Restriction ;\\n                                                                                   owl:onProperty test:in ;\\n                                                                                   owl:someValuesFrom [ rdf:type owl:Class ;\\n                                                                                                        owl:unionOf ( test:Geb\\xc3\\xa4udeklasse1\\n                                                                                                                      test:Geb\\xc3\\xa4udeklasse2\\n                                                                                                                    )\\n                                                                                                      ]\\n                                                                                 ]\\n                                                              ] ,\\n                                                              [ rdf:type owl:Class ;\\n                                                                owl:complementOf [ rdf:type owl:Restriction ;\\n                                                                                   owl:onProperty test:verbindet ;\\n                                                                                   owl:qualifiedCardinality \"2\"^^xsd:nonNegativeInteger ;\\n                                                                                   owl:onClass [ owl:intersectionOf ( test:Geschoss\\n                                                                                                                      [ rdf:type owl:Restriction ;\\n                                                                                                                        owl:onProperty test:verbundenZu ;\\n                                                                                                                        owl:someValuesFrom test:Rettungsweg\\n                                                                                                                      ]\\n                                                                                                                      [ rdf:type owl:Restriction ;\\n                                                                                                                        owl:onProperty test:in ;\\n                                                                                                                        owl:qualifiedCardinality \"1\"^^xsd:nonNegativeInteger ;\\n                                                                                                                        owl:onClass [ owl:intersectionOf ( test:Nutzungseinheit\\n                                                                                                                                                           [ rdf:type owl:Restriction ;\\n                                                                                                                                                             owl:onProperty test:bruttoGrundfl\\xc3\\xa4che ;\\n                                                                                                                                                             owl:someValuesFrom [ rdf:type rdfs:Datatype ;\\n                                                                                                                                                                                  owl:onDatatype xsd:float ;\\n                                                                                                                                                                                  owl:withRestrictions ( [ xsd:maxInclusive \"200.0\"^^xsd:float\\n                                                                                                                                                                                                         ]\\n                                                                                                                                                                                                       )\\n                                                                                                                                                                                ]\\n                                                                                                                                                           ]\\n                                                                                                                                                         ) ;\\n                                                                                                                                      rdf:type owl:Class\\n                                                                                                                                    ]\\n                                                                                                                      ]\\n                                                                                                                    ) ;\\n                                                                                                 rdf:type owl:Class\\n                                                                                               ]\\n                                                                                 ]\\n                                                              ] ;\\n                                          rdfs:subClassOf test:MussInEigenemTreppenraumLiegen ,\\n                                                          test:NotwendigeTreppe .\\n\\n\\n###  http://test#Nutzungseinheit\\ntest:Nutzungseinheit rdf:type owl:Class .\\n\\n\\n###  http://test#Rettungsweg\\ntest:Rettungsweg rdf:type owl:Class .\\n\\n\\n###  Generated by the OWL API (version 4.5.29.2024-05-13T12:11:03Z) https://github.com/owlcs/owlapi\\n'"
      ]
     },
     "execution_count": 4,
     "metadata": {},
     "output_type": "execute_result"
    }
   ],
   "source": [
    "res = requests.get(f'{host}rule/{rule_name}')\n",
    "\n",
    "res.content"
   ]
  },
  {
   "cell_type": "code",
   "execution_count": 5,
   "id": "93961b81",
   "metadata": {},
   "outputs": [
    {
     "data": {
      "text/plain": [
       "<_io.BufferedWriter name='c:\\\\Users\\\\baimu\\\\Work\\\\KIML\\\\owl_model_checker\\\\test\\\\rule.ttl'>"
      ]
     },
     "execution_count": 5,
     "metadata": {},
     "output_type": "execute_result"
    }
   ],
   "source": [
    "import os\n",
    "\n",
    "\n",
    "dir_path = os.path.abspath('')\n",
    "rule_path = os.path.join(dir_path, 'rule.ttl')\n",
    "with open(rule_path, 'wb') as file:\n",
    "    file.write(res.content)\n",
    "\n",
    "file"
   ]
  },
  {
   "cell_type": "code",
   "execution_count": 6,
   "id": "eaff04cb",
   "metadata": {},
   "outputs": [
    {
     "data": {
      "text/plain": [
       "{'valid': True}"
      ]
     },
     "execution_count": 6,
     "metadata": {},
     "output_type": "execute_result"
    }
   ],
   "source": [
    "data_path = os.path.join(dir_path, 'test_pass.ttl')\n",
    "file = {'file': open(data_path, 'rb')}\n",
    "\n",
    "res = requests.post(f'{host}rule/{rule_name}', files=file)\n",
    "\n",
    "res.json()"
   ]
  },
  {
   "cell_type": "code",
   "execution_count": 7,
   "id": "767a0546",
   "metadata": {},
   "outputs": [
    {
     "data": {
      "text/plain": [
       "{'log': 'Java error message is: ERROR: Ontology is inconsistent, run \"pellet explain\" to get the reason\\r\\n\\nThis is the output of `pellet explain`: \\n Axiom: Thing subClassOf Nothing\\r\\n\\r\\nExplanation(s): \\r\\n1)   notwendige_treppe_in_eigenem_treppenraum1 type NotwendigeTreppeInEigenemTreppenraum\\r\\n     notwendige_treppe_in_eigenem_treppenraum1 type in only Nothing\\r\\n     MussInEigenemTreppenraumLiegen equivalentTo in some EigenerTreppenraum\\r\\n     NotwendigeTreppeInEigenemTreppenraum subClassOf MussInEigenemTreppenraumLiegen\\r\\n\\r\\n\\r\\n\\n',\n",
       " 'valid': False}"
      ]
     },
     "execution_count": 7,
     "metadata": {},
     "output_type": "execute_result"
    }
   ],
   "source": [
    "data_path = os.path.join(dir_path, 'test_fail.ttl')\n",
    "file = {'file': open(data_path, 'rb')}\n",
    "\n",
    "res = requests.post(f'{host}rule/{rule_name}', files=file)\n",
    "\n",
    "res.json()"
   ]
  }
 ],
 "metadata": {
  "kernelspec": {
   "display_name": "Python 3",
   "language": "python",
   "name": "python3"
  },
  "language_info": {
   "codemirror_mode": {
    "name": "ipython",
    "version": 3
   },
   "file_extension": ".py",
   "mimetype": "text/x-python",
   "name": "python",
   "nbconvert_exporter": "python",
   "pygments_lexer": "ipython3",
   "version": "3.12.9"
  }
 },
 "nbformat": 4,
 "nbformat_minor": 5
}
